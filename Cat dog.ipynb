{
 "cells": [
  {
   "cell_type": "code",
   "execution_count": null,
   "id": "6eba9dad",
   "metadata": {},
   "outputs": [],
   "source": []
  },
  {
   "cell_type": "markdown",
   "id": "b0a7e27e",
   "metadata": {},
   "source": [
    "At first check the excel sheet in assignment file and find your name. In front of your name, there is title of network you should apply.\n",
    "\n",
    "For example, Student “A” has VGG16, he/she must use VGG16 and write report about it.\n",
    "\n",
    "Data: Cat & Dog\n",
    "\n",
    "Use following python code to read Data:\n",
    "\n",
    "from mat4py import loadmat<br>\n",
    "data = loadmat('CatDog.mat')\n",
    "\n",
    "You should use keras library to classify cat and dog. A network is assigned for each student.\n",
    "\n",
    "Task\n",
    "\n",
    "1-Write a 5-page report which includes all information about CNN-network, MLP and an introduction about transfer learning and CNN network. Following format:\n",
    "\n",
    "    Title\n",
    "    Your Name.\n",
    "    Abstract: 250 words\n",
    "    Introduction: what are CNN, MLP and transfer learning.\n",
    "Method: Talk about your method and code implementation, activation fucntion and hyperparameter.\n",
    "\n",
    "Result and discussion.\n",
    "\n",
    "Conclusion\n",
    "\n",
    "Reference.\n",
    "\n",
    "2- Prepare a PowerPoint about network and you results: You must explain network with detail and your results in 5 minutes and there is 2 minutes question and answer."
   ]
  },
  {
   "cell_type": "code",
   "execution_count": 3,
   "id": "1ee00c64",
   "metadata": {},
   "outputs": [],
   "source": [
    "from mat4py import loadmat\n",
    "data = loadmat('CatDog.mat')"
   ]
  },
  {
   "cell_type": "code",
   "execution_count": null,
   "id": "a092d65d",
   "metadata": {},
   "outputs": [],
   "source": []
  },
  {
   "cell_type": "code",
   "execution_count": null,
   "id": "1bd6b028",
   "metadata": {},
   "outputs": [],
   "source": []
  }
 ],
 "metadata": {
  "kernelspec": {
   "display_name": "Python 3 (ipykernel)",
   "language": "python",
   "name": "python3"
  },
  "language_info": {
   "codemirror_mode": {
    "name": "ipython",
    "version": 3
   },
   "file_extension": ".py",
   "mimetype": "text/x-python",
   "name": "python",
   "nbconvert_exporter": "python",
   "pygments_lexer": "ipython3",
   "version": "3.11.5"
  }
 },
 "nbformat": 4,
 "nbformat_minor": 5
}
